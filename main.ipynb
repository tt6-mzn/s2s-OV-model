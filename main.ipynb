{
 "cells": [
  {
   "cell_type": "code",
   "execution_count": 2,
   "metadata": {},
   "outputs": [],
   "source": [
    "import us2s_OV"
   ]
  },
  {
   "cell_type": "code",
   "execution_count": 3,
   "metadata": {},
   "outputs": [],
   "source": [
    "model = us2s_OV.us2s_OV(\n",
    "        L     = 100,  # レーンの長さ\n",
    "        K     = 30,  # 車両の数\n",
    "        n_0   = 2,  # monitoring period\n",
    "        x_0   = 1,  # 最短車間距離\n",
    "        v_0   = 1,  # 車両の最高速度\n",
    "        dt    = 1,  # 時間差分\n",
    "        x     = [i for i in range(30)]  # 車両の初期位置\n",
    ")"
   ]
  },
  {
   "cell_type": "code",
   "execution_count": 4,
   "metadata": {},
   "outputs": [],
   "source": [
    "model.simulate(100)"
   ]
  },
  {
   "cell_type": "code",
   "execution_count": 5,
   "metadata": {},
   "outputs": [
    {
     "data": {
      "text/plain": [
       "   0: XXXXXXXXXXXXXXXXXXXXXXXXXXXXXX----------------------------------------------------------------------\n",
       "   1: XXXXXXXXXXXXXXXXXXXXXXXXXXXXXX----------------------------------------------------------------------\n",
       "   2: XXXXXXXXXXXXXXXXXXXXXXXXXXXXXX----------------------------------------------------------------------\n",
       "   3: XXXXXXXXXXXXXXXXXXXXXXXXXXXXX-X---------------------------------------------------------------------\n",
       "   4: XXXXXXXXXXXXXXXXXXXXXXXXXXXXX--X--------------------------------------------------------------------\n",
       "   5: XXXXXXXXXXXXXXXXXXXXXXXXXXXXX---X-------------------------------------------------------------------\n",
       "   6: XXXXXXXXXXXXXXXXXXXXXXXXXXXX-X---X------------------------------------------------------------------\n",
       "   7: XXXXXXXXXXXXXXXXXXXXXXXXXXXX--X---X-----------------------------------------------------------------\n",
       "   8: XXXXXXXXXXXXXXXXXXXXXXXXXXXX---X---X----------------------------------------------------------------\n",
       "   9: XXXXXXXXXXXXXXXXXXXXXXXXXXX-X---X---X---------------------------------------------------------------\n",
       "  10: XXXXXXXXXXXXXXXXXXXXXXXXXXX--X---X---X--------------------------------------------------------------\n",
       "  11: XXXXXXXXXXXXXXXXXXXXXXXXXXX---X---X---X-------------------------------------------------------------\n",
       "  12: XXXXXXXXXXXXXXXXXXXXXXXXXX-X---X---X---X------------------------------------------------------------\n",
       "  13: XXXXXXXXXXXXXXXXXXXXXXXXXX--X---X---X---X-----------------------------------------------------------\n",
       "  14: XXXXXXXXXXXXXXXXXXXXXXXXXX---X---X---X---X----------------------------------------------------------\n",
       "  15: XXXXXXXXXXXXXXXXXXXXXXXXX-X---X---X---X---X---------------------------------------------------------\n",
       "  16: XXXXXXXXXXXXXXXXXXXXXXXXX--X---X---X---X---X--------------------------------------------------------\n",
       "  17: XXXXXXXXXXXXXXXXXXXXXXXXX---X---X---X---X---X-------------------------------------------------------\n",
       "  18: XXXXXXXXXXXXXXXXXXXXXXXX-X---X---X---X---X---X------------------------------------------------------\n",
       "  19: XXXXXXXXXXXXXXXXXXXXXXXX--X---X---X---X---X---X-----------------------------------------------------\n",
       "  20: XXXXXXXXXXXXXXXXXXXXXXXX---X---X---X---X---X---X----------------------------------------------------\n",
       "  21: XXXXXXXXXXXXXXXXXXXXXXX-X---X---X---X---X---X---X---------------------------------------------------\n",
       "  22: XXXXXXXXXXXXXXXXXXXXXXX--X---X---X---X---X---X---X--------------------------------------------------\n",
       "  23: XXXXXXXXXXXXXXXXXXXXXXX---X---X---X---X---X---X---X-------------------------------------------------\n",
       "  24: XXXXXXXXXXXXXXXXXXXXXX-X---X---X---X---X---X---X---X------------------------------------------------\n",
       "  25: XXXXXXXXXXXXXXXXXXXXXX--X---X---X---X---X---X---X---X-----------------------------------------------\n",
       "  26: XXXXXXXXXXXXXXXXXXXXXX---X---X---X---X---X---X---X---X----------------------------------------------\n",
       "  27: XXXXXXXXXXXXXXXXXXXXX-X---X---X---X---X---X---X---X---X---------------------------------------------\n",
       "  28: XXXXXXXXXXXXXXXXXXXXX--X---X---X---X---X---X---X---X---X--------------------------------------------\n",
       "  29: XXXXXXXXXXXXXXXXXXXXX---X---X---X---X---X---X---X---X---X-------------------------------------------\n",
       "  30: XXXXXXXXXXXXXXXXXXXX-X---X---X---X---X---X---X---X---X---X------------------------------------------\n",
       "  31: XXXXXXXXXXXXXXXXXXXX--X---X---X---X---X---X---X---X---X---X-----------------------------------------\n",
       "  32: XXXXXXXXXXXXXXXXXXXX---X---X---X---X---X---X---X---X---X---X----------------------------------------\n",
       "  33: XXXXXXXXXXXXXXXXXXX-X---X---X---X---X---X---X---X---X---X---X---------------------------------------\n",
       "  34: XXXXXXXXXXXXXXXXXXX--X---X---X---X---X---X---X---X---X---X---X--------------------------------------\n",
       "  35: XXXXXXXXXXXXXXXXXXX---X---X---X---X---X---X---X---X---X---X---X-------------------------------------\n",
       "  36: XXXXXXXXXXXXXXXXXX-X---X---X---X---X---X---X---X---X---X---X---X------------------------------------\n",
       "  37: XXXXXXXXXXXXXXXXXX--X---X---X---X---X---X---X---X---X---X---X---X-----------------------------------\n",
       "  38: XXXXXXXXXXXXXXXXXX---X---X---X---X---X---X---X---X---X---X---X---X----------------------------------\n",
       "  39: XXXXXXXXXXXXXXXXX-X---X---X---X---X---X---X---X---X---X---X---X---X---------------------------------\n",
       "  40: XXXXXXXXXXXXXXXXX--X---X---X---X---X---X---X---X---X---X---X---X---X--------------------------------\n",
       "  41: XXXXXXXXXXXXXXXXX---X---X---X---X---X---X---X---X---X---X---X---X---X-------------------------------\n",
       "  42: XXXXXXXXXXXXXXXX-X---X---X---X---X---X---X---X---X---X---X---X---X---X------------------------------\n",
       "  43: XXXXXXXXXXXXXXXX--X---X---X---X---X---X---X---X---X---X---X---X---X---X-----------------------------\n",
       "  44: XXXXXXXXXXXXXXXX---X---X---X---X---X---X---X---X---X---X---X---X---X---X----------------------------\n",
       "  45: XXXXXXXXXXXXXXX-X---X---X---X---X---X---X---X---X---X---X---X---X---X---X---------------------------\n",
       "  46: XXXXXXXXXXXXXXX--X---X---X---X---X---X---X---X---X---X---X---X---X---X---X--------------------------\n",
       "  47: XXXXXXXXXXXXXXX---X---X---X---X---X---X---X---X---X---X---X---X---X---X---X-------------------------\n",
       "  48: XXXXXXXXXXXXXX-X---X---X---X---X---X---X---X---X---X---X---X---X---X---X---X------------------------\n",
       "  49: XXXXXXXXXXXXXX--X---X---X---X---X---X---X---X---X---X---X---X---X---X---X---X-----------------------\n",
       "  50: XXXXXXXXXXXXXX---X---X---X---X---X---X---X---X---X---X---X---X---X---X---X---X----------------------\n",
       "  51: XXXXXXXXXXXXX-X---X---X---X---X---X---X---X---X---X---X---X---X---X---X---X---X---------------------\n",
       "  52: XXXXXXXXXXXXX--X---X---X---X---X---X---X---X---X---X---X---X---X---X---X---X---X--------------------\n",
       "  53: XXXXXXXXXXXXX---X---X---X---X---X---X---X---X---X---X---X---X---X---X---X---X---X-------------------\n",
       "  54: XXXXXXXXXXXX-X---X---X---X---X---X---X---X---X---X---X---X---X---X---X---X---X---X------------------\n",
       "  55: XXXXXXXXXXXX--X---X---X---X---X---X---X---X---X---X---X---X---X---X---X---X---X---X-----------------\n",
       "  56: XXXXXXXXXXXX---X---X---X---X---X---X---X---X---X---X---X---X---X---X---X---X---X---X----------------\n",
       "  57: XXXXXXXXXXX-X---X---X---X---X---X---X---X---X---X---X---X---X---X---X---X---X---X---X---------------\n",
       "  58: XXXXXXXXXXX--X---X---X---X---X---X---X---X---X---X---X---X---X---X---X---X---X---X---X--------------\n",
       "  59: XXXXXXXXXXX---X---X---X---X---X---X---X---X---X---X---X---X---X---X---X---X---X---X---X-------------\n",
       "  60: XXXXXXXXXX-X---X---X---X---X---X---X---X---X---X---X---X---X---X---X---X---X---X---X---X------------\n",
       "  61: XXXXXXXXXX--X---X---X---X---X---X---X---X---X---X---X---X---X---X---X---X---X---X---X---X-----------\n",
       "  62: XXXXXXXXXX---X---X---X---X---X---X---X---X---X---X---X---X---X---X---X---X---X---X---X---X----------\n",
       "  63: XXXXXXXXX-X---X---X---X---X---X---X---X---X---X---X---X---X---X---X---X---X---X---X---X---X---------\n",
       "  64: XXXXXXXXX--X---X---X---X---X---X---X---X---X---X---X---X---X---X---X---X---X---X---X---X---X--------\n",
       "  65: XXXXXXXXX---X---X---X---X---X---X---X---X---X---X---X---X---X---X---X---X---X---X---X---X---X-------\n",
       "  66: XXXXXXXX-X---X---X---X---X---X---X---X---X---X---X---X---X---X---X---X---X---X---X---X---X---X------\n",
       "  67: XXXXXXXX--X---X---X---X---X---X---X---X---X---X---X---X---X---X---X---X---X---X---X---X---X---X-----\n",
       "  68: XXXXXXXX---X---X---X---X---X---X---X---X---X---X---X---X---X---X---X---X---X---X---X---X---X---X----\n",
       "  69: XXXXXXX-X---X---X---X---X---X---X---X---X---X---X---X---X---X---X---X---X---X---X---X---X---X---X---\n",
       "  70: XXXXXXX--X---X---X---X---X---X---X---X---X---X---X---X---X---X---X---X---X---X---X---X---X---X---X--\n",
       "  71: XXXXXXX---X---X---X---X---X---X---X---X---X---X---X---X---X---X---X---X---X---X---X---X---X---X---X-\n",
       "  72: XXXXXX-X---X---X---X---X---X---X---X---X---X---X---X---X---X---X---X---X---X---X---X---X---X---X---X\n",
       "  73: XXXXXX--X---X---X---X---X---X---X---X---X---X---X---X---X---X---X---X---X---X---X---X---X---X---X---\n",
       "  74: XXXXXX---X---X---X---X---X---X---X---X---X---X---X---X---X---X---X---X---X---X---X---X---X---X---X--\n",
       "  75: XXXXX-X---X---X---X---X---X---X---X---X---X---X---X---X---X---X---X---X---X---X---X---X---X---X---X-\n",
       "  76: XXXXX--X---X---X---X---X---X---X---X---X---X---X---X---X---X---X---X---X---X---X---X---X---X---X---X\n",
       "  77: XXXXX---X---X---X---X---X---X---X---X---X---X---X---X---X---X---X---X---X---X---X---X---X---X---X---\n",
       "  78: XXXX-X---X---X---X---X---X---X---X---X---X---X---X---X---X---X---X---X---X---X---X---X---X---X---X--\n",
       "  79: XXXX--X---X---X---X---X---X---X---X---X---X---X---X---X---X---X---X---X---X---X---X---X---X---X---X-\n",
       "  80: XXXX---X---X---X---X---X---X---X---X---X---X---X---X---X---X---X---X---X---X---X---X---X---X---X---X\n",
       "  81: XXX-X---X---X---X---X---X---X---X---X---X---X---X---X---X---X---X---X---X---X---X---X---X---X---X---\n",
       "  82: XXX--X---X---X---X---X---X---X---X---X---X---X---X---X---X---X---X---X---X---X---X---X---X---X---X--\n",
       "  83: XXX---X---X---X---X---X---X---X---X---X---X---X---X---X---X---X---X---X---X---X---X---X---X---X---X-\n",
       "  84: XX-X---X---X---X---X---X---X---X---X---X---X---X---X---X---X---X---X---X---X---X---X---X---X---X---X\n",
       "  85: XX--X---X---X---X---X---X---X---X---X---X---X---X---X---X---X---X---X---X---X---X---X---X---X---X---\n",
       "  86: XX---X---X---X---X---X---X---X---X---X---X---X---X---X---X---X---X---X---X---X---X---X---X---X---X--\n",
       "  87: X-X---X---X---X---X---X---X---X---X---X---X---X---X---X---X---X---X---X---X---X---X---X---X---X---X-\n",
       "  88: X--X---X---X---X---X---X---X---X---X---X---X---X---X---X---X---X---X---X---X---X---X---X---X---X---X\n",
       "  89: X---X---X---X---X---X---X---X---X---X---X---X---X---X---X---X---X---X---X---X---X---X---X---X---X---\n",
       "  90: XX---X---X---X---X---X---X---X---X---X---X---X---X---X---X---X---X---X---X---X---X---X---X---X---X--\n",
       "  91: X-X---X---X---X---X---X---X---X---X---X---X---X---X---X---X---X---X---X---X---X---X---X---X---X---X-\n",
       "  92: X--X---X---X---X---X---X---X---X---X---X---X---X---X---X---X---X---X---X---X---X---X---X---X---X---X\n",
       "  93: X---X---X---X---X---X---X---X---X---X---X---X---X---X---X---X---X---X---X---X---X---X---X---X---X---\n",
       "  94: XX---X---X---X---X---X---X---X---X---X---X---X---X---X---X---X---X---X---X---X---X---X---X---X---X--\n",
       "  95: X-X---X---X---X---X---X---X---X---X---X---X---X---X---X---X---X---X---X---X---X---X---X---X---X---X-\n",
       "  96: X--X---X---X---X---X---X---X---X---X---X---X---X---X---X---X---X---X---X---X---X---X---X---X---X---X\n",
       "  97: X---X---X---X---X---X---X---X---X---X---X---X---X---X---X---X---X---X---X---X---X---X---X---X---X---\n",
       "  98: XX---X---X---X---X---X---X---X---X---X---X---X---X---X---X---X---X---X---X---X---X---X---X---X---X--\n",
       "  99: X-X---X---X---X---X---X---X---X---X---X---X---X---X---X---X---X---X---X---X---X---X---X---X---X---X-\n",
       " 100: X--X---X---X---X---X---X---X---X---X---X---X---X---X---X---X---X---X---X---X---X---X---X---X---X---X"
      ]
     },
     "execution_count": 5,
     "metadata": {},
     "output_type": "execute_result"
    }
   ],
   "source": [
    "model"
   ]
  }
 ],
 "metadata": {
  "kernelspec": {
   "display_name": "ds2s-OV",
   "language": "python",
   "name": "python3"
  },
  "language_info": {
   "codemirror_mode": {
    "name": "ipython",
    "version": 3
   },
   "file_extension": ".py",
   "mimetype": "text/x-python",
   "name": "python",
   "nbconvert_exporter": "python",
   "pygments_lexer": "ipython3",
   "version": "3.10.9"
  },
  "orig_nbformat": 4
 },
 "nbformat": 4,
 "nbformat_minor": 2
}
