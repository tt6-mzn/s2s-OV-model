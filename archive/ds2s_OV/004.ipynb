{
 "cells": [
  {
   "cell_type": "code",
   "execution_count": 1,
   "metadata": {},
   "outputs": [],
   "source": [
    "import random\n",
    "import numpy as np\n",
    "import matplotlib.pyplot as plt\n",
    "import sys"
   ]
  },
  {
   "cell_type": "code",
   "execution_count": 2,
   "metadata": {},
   "outputs": [],
   "source": [
    "from ds2s_OV_x0 import ds2s_OV_x0"
   ]
  },
  {
   "cell_type": "code",
   "execution_count": 3,
   "metadata": {},
   "outputs": [],
   "source": [
    "def plot_pattern(ax, model, ni, nf):\n",
    "    ax.set_xlabel(\"Time\")\n",
    "    ax.set_ylabel(\"Location of Vehicles\")\n",
    "    ax.set_title(\n",
    "        \"L={:3.1f}, K={}, n0={}, x0={:2.1f}, v0={:2.1f}, dt={:2.1f}, dx={:2.1f}\"\n",
    "        .format(model.L, model.K, model.n_0, model.x_0, model.v_0, model.dt, model.dx)\n",
    "    )\n",
    "    ax.set_xlim((0, 100))\n",
    "    ax.set_ylim((0, 10))\n",
    "    x = np.array([[j for i in range(model.K)] for j in range(ni, nf+1)]) \\\n",
    "        .flatten()\n",
    "    y = model.x[ni:nf+1, :model.K].flatten()\n",
    "    ax.scatter(x, y, s=1)\n",
    "\n",
    "\n",
    "def plot_flow(ax, model, ni, nf):\n",
    "    ax.set_xlabel(\"Time\")\n",
    "    ax.set_ylabel(\"Flow\")\n",
    "    ax.set_xlim((ni, nf))\n",
    "    ax.set_ylim((0, 1.0))\n",
    "    ax.set_title(\n",
    "        \"L={:3.1f}, K={}, n0={}, x0={:2.1f}, v0={:2.1f}, dt={:2.1f}, dx={:2.1f}\"\n",
    "        .format(model.L, model.K, model.n_0, model.x_0, model.v_0, model.dt, model.dx)\n",
    "    )\n",
    "    x = np.array([i for i in range(nf - ni + 1)])\n",
    "    y = np.array([model.flow(0, i) for i in range(ni, nf + 1)])\n",
    "    ax.plot(x, y)\n",
    "\n",
    "def plot_fundamental(ax, model, density, flow):\n",
    "    ax.set_xlabel(\"Density\")\n",
    "    ax.set_ylabel(\"Flow\")\n",
    "    ax.set_xlim((0, 1.0))\n",
    "    ax.set_ylim((0, 1.0))\n",
    "    ax.set_title(\n",
    "        \"L={:3.1f}, K={}, n0={}, x0={:2.1f}, v0={:2.1f}, dt={:2.1f}, dx={:2.1f}\"\n",
    "        .format(model.L, model.K, model.n_0, model.x_0, model.v_0, model.dt, model.dx)\n",
    "    )\n",
    "    ax.scatter(density, flow, s=3)"
   ]
  },
  {
   "cell_type": "code",
   "execution_count": 5,
   "metadata": {},
   "outputs": [],
   "source": [
    "L = 10.0\n",
    "n_0 = 5\n",
    "x_0 = 0.1\n",
    "v_0 = 0.7\n",
    "dt = 0.1\n",
    "dx = 1.0"
   ]
  },
  {
   "cell_type": "code",
   "execution_count": 9,
   "metadata": {},
   "outputs": [
    {
     "name": "stdout",
     "output_type": "stream",
     "text": [
      "K =  100"
     ]
    },
    {
     "data": {
      "image/png": "[encoded data removed]",
      "text/plain": [
       "<Figure size 640x640 with 1 Axes>"
      ]
     },
     "metadata": {},
     "output_type": "display_data"
    }
   ],
   "source": [
    "fig = plt.figure(figsize=(6.4, 6.4))\n",
    "ax = fig.add_subplot(1, 1, 1)\n",
    "\n",
    "density = []\n",
    "flow = []\n",
    "\n",
    "for K in range(101):\n",
    "\tsys.stdout.write(\"\\rK = {:4d}\".format(K))\n",
    "\tsys.stdout.flush()\n",
    "\tx_init = np.array(sorted(random.sample([0.1 * i for i in range(100)], K)))\n",
    "\tmodel = ds2s_OV_x0(\n",
    "\t\tL=10.0,\n",
    "\t\tK=K,\n",
    "\t\tn_0=5,\n",
    "\t\tx_0=0.1,\n",
    "\t\tv_0=0.7,\n",
    "\t\tdt=1.0,\n",
    "\t\tdx=0.1,\n",
    "\t\tx_init=x_init,\n",
    "\t\tn_max=1010\n",
    "\t)\n",
    "\tmodel.simulate()\n",
    "\tdensity.append(model.density())\n",
    "\tflow.append(model.flow(800, 1000))\n",
    "\n",
    "for K in range(101):\n",
    "\tsys.stdout.write(\"\\rK = {:4d}\".format(K))\n",
    "\tsys.stdout.flush()\n",
    "\tx_init = np.array([0.1 * i for i in range(K)])\n",
    "\tmodel = ds2s_OV_x0(\n",
    "\t\tL=10.0,\n",
    "\t\tK=K,\n",
    "\t\tn_0=5,\n",
    "\t\tx_0=0.1,\n",
    "\t\tv_0=0.7,\n",
    "\t\tdt=1.0,\n",
    "\t\tdx=0.1,\n",
    "\t\tx_init=x_init,\n",
    "\t\tn_max=1010\n",
    "\t)\n",
    "\tmodel.simulate()\n",
    "\tdensity.append(model.density())\n",
    "\tflow.append(model.flow(800, 1000))\n",
    "\n",
    "plot_fundamental(ax, model, density, flow)"
   ]
  }
 ],
 "metadata": {
  "kernelspec": {
   "display_name": "ds2s-OV",
   "language": "python",
   "name": "python3"
  },
  "language_info": {
   "codemirror_mode": {
    "name": "ipython",
    "version": 3
   },
   "file_extension": ".py",
   "mimetype": "text/x-python",
   "name": "python",
   "nbconvert_exporter": "python",
   "pygments_lexer": "ipython3",
   "version": "3.10.11"
  },
  "orig_nbformat": 4
 },
 "nbformat": 4,
 "nbformat_minor": 2
}
