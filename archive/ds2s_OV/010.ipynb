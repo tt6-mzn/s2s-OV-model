{
 "cells": [
  {
   "cell_type": "markdown",
   "metadata": {},
   "source": [
    "# 初期条件のセットを作る\n",
    "* 初期条件といろんなパラメータのjsonのリストを用意する"
   ]
  },
  {
   "cell_type": "code",
   "execution_count": 6,
   "metadata": {},
   "outputs": [],
   "source": [
    "import random\n",
    "import numpy as np\n",
    "import matplotlib.pyplot as plt\n",
    "from ds2s_OV_x0 import ds2s_OV_x0 as ds2s_OV\n",
    "from funcs import *"
   ]
  },
  {
   "cell_type": "code",
   "execution_count": 7,
   "metadata": {},
   "outputs": [],
   "source": [
    "import json\n",
    "import pickle\n",
    "import itertools"
   ]
  },
  {
   "cell_type": "code",
   "execution_count": 8,
   "metadata": {},
   "outputs": [],
   "source": [
    "L_default = 10.0\n",
    "K_default = 50\n",
    "n_0_default = 5\n",
    "x_0_default = 0.1\n",
    "v_0_default = 0.5\n",
    "dt_default = 1.0\n",
    "dx_default = 0.5"
   ]
  },
  {
   "cell_type": "code",
   "execution_count": 9,
   "metadata": {},
   "outputs": [],
   "source": [
    "K_list = [i for i in range(101)]\n",
    "n_0_list = [i for i in range(11)]\n",
    "x_0_list = [0.1 * i for i in range(11)]\n",
    "v_0_list = [0.1 * i for i in range(11)]\n",
    "dx_list = [0.1 * i for i in range(1, 11)]"
   ]
  },
  {
   "cell_type": "code",
   "execution_count": 16,
   "metadata": {},
   "outputs": [],
   "source": [
    "# 101 * 11 * 11 * 11 * 10 = 1478741\n",
    "d = {}\n",
    "for id, K in enumerate(K_list):\n",
    "\tmodel = ds2s_OV(\n",
    "\t\tL=L_default,\n",
    "\t\tK=K,\n",
    "\t\tn_0=n_0_default,\n",
    "\t\tx_0=x_0_default,\n",
    "\t\tv_0=v_0_default,\n",
    "\t\tdt=dt_default,\n",
    "\t\tdx=dx_default,\n",
    "\t\tx_init=np.array([x_0_default * i for i in range(K)]),\n",
    "\t\tn_max=1010,\n",
    "\t)\n",
    "\tmodel.simulate()\n",
    "\tjs = model.get_json()\n",
    "\tjs[\"flow\"] = { \"900 1000\": model.flow(900, 1000) }\n",
    "\td[id] = js"
   ]
  },
  {
   "cell_type": "code",
   "execution_count": 18,
   "metadata": {},
   "outputs": [],
   "source": [
    "json.dump(d, open(\"./data/ds2s_OV_x0.json\", \"w\"))"
   ]
  }
 ],
 "metadata": {
  "kernelspec": {
   "display_name": "ds2s-OV",
   "language": "python",
   "name": "python3"
  },
  "language_info": {
   "codemirror_mode": {
    "name": "ipython",
    "version": 3
   },
   "file_extension": ".py",
   "mimetype": "text/x-python",
   "name": "python",
   "nbconvert_exporter": "python",
   "pygments_lexer": "ipython3",
   "version": "3.10.11"
  }
 },
 "nbformat": 4,
 "nbformat_minor": 2
}
