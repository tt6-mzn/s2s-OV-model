{
 "cells": [
  {
   "cell_type": "markdown",
   "metadata": {},
   "source": [
    "# json出力を試す\n",
    "* `ds2s-OV`にメソッドとして`get_json()`を追加する\n",
    "* 実際に入出力してみる"
   ]
  },
  {
   "cell_type": "code",
   "execution_count": 1,
   "metadata": {},
   "outputs": [],
   "source": [
    "import random\n",
    "import numpy as np\n",
    "import matplotlib.pyplot as plt\n",
    "from ds2s_OV_x0 import ds2s_OV_x0 as ds2s_OV\n",
    "from funcs import *\n",
    "import json\n",
    "import pickle"
   ]
  },
  {
   "cell_type": "code",
   "execution_count": 2,
   "metadata": {},
   "outputs": [],
   "source": [
    "model = ds2s_OV(\n",
    "\tL=10.0,\n",
    "\tK=25,\n",
    "\tn_0=5,\n",
    "\tx_0=0.1,\n",
    "\tv_0=0.7,\n",
    "\tdt=1.0,\n",
    "\tdx=1.0,\n",
    "\tx_init=np.array([4.0 + 0.1 * i for i in range(25)]),\n",
    "\tn_max=10000,\n",
    ")\n",
    "model.simulate()"
   ]
  },
  {
   "cell_type": "code",
   "execution_count": 3,
   "metadata": {},
   "outputs": [],
   "source": [
    "j = model.get_json()\n",
    "with open(\"test.json\", \"w\") as f:\n",
    "\tf.write(j)"
   ]
  }
 ],
 "metadata": {
  "kernelspec": {
   "display_name": "ds2s-OV",
   "language": "python",
   "name": "python3"
  },
  "language_info": {
   "codemirror_mode": {
    "name": "ipython",
    "version": 3
   },
   "file_extension": ".py",
   "mimetype": "text/x-python",
   "name": "python",
   "nbconvert_exporter": "python",
   "pygments_lexer": "ipython3",
   "version": "3.10.11"
  }
 },
 "nbformat": 4,
 "nbformat_minor": 2
}
